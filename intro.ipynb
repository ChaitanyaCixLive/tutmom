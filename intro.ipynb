{
 "cells": [
  {
   "cell_type": "markdown",
   "metadata": {},
   "source": [
    "# Introduction to optimization"
   ]
  },
  {
   "cell_type": "markdown",
   "metadata": {},
   "source": [
    "The basic components"
   ]
  },
  {
   "cell_type": "markdown",
   "metadata": {},
   "source": [
    "* The objective function (also called the 'cost' function)"
   ]
  },
  {
   "cell_type": "code",
   "execution_count": 1,
   "metadata": {
    "collapsed": false
   },
   "outputs": [
    {
     "name": "stdout",
     "output_type": "stream",
     "text": [
      "     2\n",
      "1.3 x + 4 x + 0.6\n"
     ]
    }
   ],
   "source": [
    "import numpy as np\n",
    "objective = np.poly1d([1.3, 4.0, 0.6])\n",
    "print objective"
   ]
  },
  {
   "cell_type": "markdown",
   "metadata": {},
   "source": [
    "* The \"optimizer\""
   ]
  },
  {
   "cell_type": "code",
   "execution_count": 2,
   "metadata": {
    "collapsed": false
   },
   "outputs": [
    {
     "name": "stdout",
     "output_type": "stream",
     "text": [
      "Optimization terminated successfully.\n",
      "         Current function value: -2.476923\n",
      "         Iterations: 20\n",
      "         Function evaluations: 40\n",
      "solved: x=[-1.53845215]\n"
     ]
    }
   ],
   "source": [
    "import scipy.optimize as opt\n",
    "x_ = opt.fmin(objective, [3])\n",
    "print \"solved: x={}\".format(x_)"
   ]
  },
  {
   "cell_type": "code",
   "execution_count": 3,
   "metadata": {
    "collapsed": true
   },
   "outputs": [],
   "source": [
    "%matplotlib inline"
   ]
  },
  {
   "cell_type": "code",
   "execution_count": 4,
   "metadata": {
    "collapsed": false
   },
   "outputs": [
    {
     "data": {
      "text/plain": [
       "[<matplotlib.lines.Line2D at 0x106d1bc90>]"
      ]
     },
     "execution_count": 4,
     "metadata": {},
     "output_type": "execute_result"
    },
    {
     "data": {
      "image/png": "[encoded data removed]",
      "text/plain": [
       "<matplotlib.figure.Figure at 0x103b0b2d0>"
      ]
     },
     "metadata": {},
     "output_type": "display_data"
    }
   ],
   "source": [
    "x = np.linspace(-4,1,101.)\n",
    "import matplotlib.pylab as mpl\n",
    "mpl.plot(x, objective(x))\n",
    "mpl.plot(x_, objective(x_), 'ro')"
   ]
  },
  {
   "cell_type": "markdown",
   "metadata": {},
   "source": [
    "Additional components"
   ]
  },
  {
   "cell_type": "markdown",
   "metadata": {},
   "source": [
    "* \"Box\" constraints"
   ]
  },
  {
   "cell_type": "code",
   "execution_count": 5,
   "metadata": {
    "collapsed": false
   },
   "outputs": [
    {
     "data": {
      "text/plain": [
       "[<matplotlib.lines.Line2D at 0x106e01510>]"
      ]
     },
     "execution_count": 5,
     "metadata": {},
     "output_type": "execute_result"
    },
    {
     "data": {
      "image/png": "[encoded data removed]",
      "text/plain": [
       "<matplotlib.figure.Figure at 0x103f20550>"
      ]
     },
     "metadata": {},
     "output_type": "display_data"
    }
   ],
   "source": [
    "import scipy.special as ss\n",
    "import scipy.optimize as opt\n",
    "import numpy as np\n",
    "import matplotlib.pylab as mpl\n",
    "\n",
    "x = np.linspace(2, 7, 200)\n",
    "\n",
    "# 1st order Bessel\n",
    "j1x = ss.j1(x)\n",
    "mpl.plot(x, j1x)\n",
    "\n",
    "# use scipy.optimize's more modern \"results object\" interface\n",
    "result = opt.minimize_scalar(ss.j1, method=\"bounded\", bounds=[2, 4])\n",
    "\n",
    "j1_min = ss.j1(result.x)\n",
    "mpl.plot(result.x, j1_min,'ro')"
   ]
  },
  {
   "cell_type": "markdown",
   "metadata": {},
   "source": [
    "* The gradient and/or hessian"
   ]
  },
  {
   "cell_type": "code",
   "execution_count": 6,
   "metadata": {
    "collapsed": false
   },
   "outputs": [
    {
     "name": "stdout",
     "output_type": "stream",
     "text": [
      "evaluates an N-dimensional Rosenbrock saddle for a list of coeffs\n",
      "\n",
      "f(x) = \\sum_(i=0)^(N-2) 100*(x_(i+1) - x_(i)^(2))^(2) + (1 - x_(i))^(2)\n",
      "\n",
      "Inspect with mystic_model_plotter using::\n",
      "    mystic.models.rosen -b \"-3:3:.1, -1:5:.1, 1\" -d -x 1\n",
      "\n",
      "The minimum is f(x)=0.0 at x_i=1.0 for all i\n"
     ]
    }
   ],
   "source": [
    "import mystic.models as models\n",
    "print(models.rosen.__doc__)"
   ]
  },
  {
   "cell_type": "code",
   "execution_count": 9,
   "metadata": {
    "collapsed": false
   },
   "outputs": [],
   "source": [
    "!mystic_model_plotter.py mystic.models.rosen -f -d -x 1 -b \"-3:3:.1, -1:5:.1, 1\""
   ]
  },
  {
   "cell_type": "code",
   "execution_count": 5,
   "metadata": {
    "collapsed": false
   },
   "outputs": [
    {
     "data": {
      "image/png": "[encoded data removed]",
      "text/plain": [
       "<matplotlib.figure.Figure at 0x10e8a1050>"
      ]
     },
     "metadata": {},
     "output_type": "display_data"
    }
   ],
   "source": [
    "import mystic\n",
    "mystic.model_plotter(mystic.models.rosen, fill=True, depth=True, scale=1, bounds=\"-3:3:.1, -1:5:.1, 1\")"
   ]
  },
  {
   "cell_type": "code",
   "execution_count": 10,
   "metadata": {
    "collapsed": false
   },
   "outputs": [
    {
     "name": "stdout",
     "output_type": "stream",
     "text": [
      "[ 0.9999992   0.99999842  0.99999685  0.99999371  0.99998742]\n",
      "581\n",
      "[ 1.          1.          1.          1.          1.00000001]\n",
      "81 81\n",
      "\n",
      "[-0.96205103  0.9357394   0.88071362  0.7778777   0.60509372] @ 86 evals\n",
      "[ 0.99999998  0.99999997  0.99999993  0.99999987  0.99999975] @ 93 evals\n",
      "[-0.96205101  0.93573938  0.88071356  0.77787762  0.6050936 ] @ 92 evals\n",
      "[-0.96205102  0.93573939  0.8807136   0.77787767  0.60509366] @ 91 evals\n",
      "[-0.96205102  0.9357394   0.88071361  0.77787769  0.6050937 ] @ 91 evals\n"
     ]
    }
   ],
   "source": [
    "import scipy.optimize as opt\n",
    "import numpy as np\n",
    "\n",
    "# initial guess\n",
    "x0 = [1.3, 1.6, -0.5, -1.8, 0.8]\n",
    "\n",
    "result = opt.minimize(opt.rosen, x0)\n",
    "print result.x\n",
    "\n",
    "# number of function evaluations\n",
    "print result.nfev\n",
    "\n",
    "# again, but this time provide the derivative\n",
    "result = opt.minimize(opt.rosen, x0, jac=opt.rosen_der)\n",
    "print result.x\n",
    "\n",
    "# number of function evaluations and derivative evaluations\n",
    "print result.nfev, result.njev\n",
    "print ''\n",
    "\n",
    "# however, note for a different x0...\n",
    "for i in range(5):\n",
    "    x0 = np.random.randint(-20,20,5)\n",
    "    result = opt.minimize(opt.rosen, x0, jac=opt.rosen_der)\n",
    "    print \"{} @ {} evals\".format(result.x, result.nfev)"
   ]
  },
  {
   "cell_type": "markdown",
   "metadata": {},
   "source": [
    "* The penalty functions\n",
    "\n",
    "$\\psi(x) = f(x) + k*p(x)$"
   ]
  },
  {
   "cell_type": "code",
   "execution_count": 42,
   "metadata": {
    "collapsed": false
   },
   "outputs": [
    {
     "name": "stdout",
     "output_type": "stream",
     "text": [
      "Optimization terminated successfully.    (Exit mode 0)\n",
      "            Current function value: -2.0\n",
      "            Iterations: 4\n",
      "            Function evaluations: 5\n",
      "            Gradient evaluations: 4\n",
      "unconstrained: [ 2.  1.]\n",
      "Optimization terminated successfully.    (Exit mode 0)\n",
      "            Current function value: -1.00000018311\n",
      "            Iterations: 9\n",
      "            Function evaluations: 14\n",
      "            Gradient evaluations: 9\n",
      "constrained: [ 1.00000009  1.        ]\n"
     ]
    }
   ],
   "source": [
    "# http://docs.scipy.org/doc/scipy/reference/tutorial/optimize.html#tutorial-sqlsp\n",
    "'''\n",
    "  Maximize: f(x) = 2*x0*x1 + 2*x0 - x0**2 - 2*x1**2\n",
    "  \n",
    "  Subject to:    x0**3 - x1 == 0\n",
    "                         x1 >= 1\n",
    "'''\n",
    "import numpy as np\n",
    "\n",
    "def objective(x, sign=1.0):\n",
    "    return sign*(2*x[0]*x[1] + 2*x[0] - x[0]**2 - 2*x[1]**2)\n",
    "\n",
    "def derivative(x, sign=1.0):\n",
    "    dfdx0 = sign*(-2*x[0] + 2*x[1] + 2)\n",
    "    dfdx1 = sign*(2*x[0] - 4*x[1])\n",
    "    return np.array([ dfdx0, dfdx1 ])\n",
    "\n",
    "# unconstrained\n",
    "result = opt.minimize(objective, [-1.0,1.0], args=(-1.0,),\n",
    "                      jac=derivative, method='SLSQP', options={'disp': True})\n",
    "print(\"unconstrained: {}\".format(result.x))\n",
    "\n",
    "\n",
    "cons = ({'type': 'eq',\n",
    "         'fun' : lambda x: np.array([x[0]**3 - x[1]]),\n",
    "         'jac' : lambda x: np.array([3.0*(x[0]**2.0), -1.0])},\n",
    "        {'type': 'ineq',\n",
    "         'fun' : lambda x: np.array([x[1] - 1]),\n",
    "         'jac' : lambda x: np.array([0.0, 1.0])})\n",
    "\n",
    "# constrained\n",
    "result = opt.minimize(objective, [-1.0,1.0], args=(-1.0,), jac=derivative,\n",
    "                      constraints=cons, method='SLSQP', options={'disp': True})\n",
    "\n",
    "print(\"constrained: {}\".format(result.x))"
   ]
  },
  {
   "cell_type": "markdown",
   "metadata": {},
   "source": [
    "Optimizer classifications"
   ]
  },
  {
   "cell_type": "markdown",
   "metadata": {},
   "source": [
    "* Constrained versus unconstrained (and importantly LP and QP)"
   ]
  },
  {
   "cell_type": "raw",
   "metadata": {},
   "source": [
    "# from scipy.optimize.minimize documentation\n",
    "\n",
    "   **Unconstrained minimization**\n",
    "    \n",
    "    Method *Nelder-Mead* uses the Simplex algorithm [1]_, [2]_. This\n",
    "    algorithm has been successful in many applications but other algorithms\n",
    "    using the first and/or second derivatives information might be preferred\n",
    "    for their better performances and robustness in general.\n",
    "    \n",
    "    Method *Powell* is a modification of Powell's method [3]_, [4]_ which\n",
    "    is a conjugate direction method. It performs sequential one-dimensional\n",
    "    minimizations along each vector of the directions set (`direc` field in\n",
    "    `options` and `info`), which is updated at each iteration of the main\n",
    "    minimization loop. The function need not be differentiable, and no\n",
    "    derivatives are taken.\n",
    "    \n",
    "    Method *CG* uses a nonlinear conjugate gradient algorithm by Polak and\n",
    "    Ribiere, a variant of the Fletcher-Reeves method described in [5]_ pp.\n",
    "    120-122. Only the first derivatives are used.\n",
    "    \n",
    "    Method *BFGS* uses the quasi-Newton method of Broyden, Fletcher,\n",
    "    Goldfarb, and Shanno (BFGS) [5]_ pp. 136. It uses the first derivatives\n",
    "    only. BFGS has proven good performance even for non-smooth\n",
    "    optimizations. This method also returns an approximation of the Hessian\n",
    "    inverse, stored as `hess_inv` in the OptimizeResult object.\n",
    "    \n",
    "    Method *Newton-CG* uses a Newton-CG algorithm [5]_ pp. 168 (also known\n",
    "    as the truncated Newton method). It uses a CG method to the compute the\n",
    "    search direction. See also *TNC* method for a box-constrained\n",
    "    minimization with a similar algorithm.\n",
    "    \n",
    "    Method *Anneal* uses simulated annealing, which is a probabilistic\n",
    "    metaheuristic algorithm for global optimization. It uses no derivative\n",
    "    information from the function being optimized.\n",
    "    \n",
    "    Method *dogleg* uses the dog-leg trust-region algorithm [5]_\n",
    "    for unconstrained minimization. This algorithm requires the gradient\n",
    "    and Hessian; furthermore the Hessian is required to be positive definite.\n",
    "    \n",
    "    Method *trust-ncg* uses the Newton conjugate gradient trust-region\n",
    "    algorithm [5]_ for unconstrained minimization. This algorithm requires\n",
    "    the gradient and either the Hessian or a function that computes the\n",
    "    product of the Hessian with a given vector.\n",
    "\n",
    "    **Constrained minimization**\n",
    "    \n",
    "    Method *L-BFGS-B* uses the L-BFGS-B algorithm [6]_, [7]_ for bound\n",
    "    constrained minimization.\n",
    "    \n",
    "    Method *TNC* uses a truncated Newton algorithm [5]_, [8]_ to minimize a\n",
    "    function with variables subject to bounds. This algorithm uses\n",
    "    gradient information; it is also called Newton Conjugate-Gradient. It\n",
    "    differs from the *Newton-CG* method described above as it wraps a C\n",
    "    implementation and allows each variable to be given upper and lower\n",
    "    bounds.\n",
    "    \n",
    "    Method *COBYLA* uses the Constrained Optimization BY Linear\n",
    "    Approximation (COBYLA) method [9]_, [10]_, [11]_. The algorithm is\n",
    "    based on linear approximations to the objective function and each\n",
    "    constraint. The method wraps a FORTRAN implementation of the algorithm.\n",
    "    \n",
    "    Method *SLSQP* uses Sequential Least SQuares Programming to minimize a\n",
    "    function of several variables with any combination of bounds, equality\n",
    "    and inequality constraints. The method wraps the SLSQP Optimization\n",
    "    subroutine originally implemented by Dieter Kraft [12]_. Note that the\n",
    "    wrapper handles infinite values in bounds by converting them into large\n",
    "    floating values.\n"
   ]
  },
  {
   "cell_type": "code",
   "execution_count": 49,
   "metadata": {
    "collapsed": false
   },
   "outputs": [
    {
     "name": "stdout",
     "output_type": "stream",
     "text": [
      "<function fmin_cobyla at 0x112c29758>\n",
      "<function linprog at 0x113f24398>\n",
      "<function fmin_slsqp at 0x112c299b0>\n"
     ]
    }
   ],
   "source": [
    "import scipy.optimize as opt\n",
    "\n",
    "# constrained: linear (i.e. A*x + b)\n",
    "print opt.cobyla.fmin_cobyla\n",
    "print opt.linprog\n",
    "\n",
    "# constrained: quadratic programming  (i.e. up to x**2)\n",
    "print opt.fmin_slsqp"
   ]
  },
  {
   "cell_type": "code",
   "execution_count": 47,
   "metadata": {
    "collapsed": false
   },
   "outputs": [
    {
     "name": "stdout",
     "output_type": "stream",
     "text": [
      "     pcost       dcost       gap    pres   dres   k/t\n",
      " 0:  2.6471e+00 -7.0588e-01  2e+01  8e-01  2e+00  1e+00\n",
      " 1:  3.0726e+00  2.8437e+00  1e+00  1e-01  2e-01  3e-01\n",
      " 2:  2.4891e+00  2.4808e+00  1e-01  1e-02  2e-02  5e-02\n",
      " 3:  2.4999e+00  2.4998e+00  1e-03  1e-04  2e-04  5e-04\n",
      " 4:  2.5000e+00  2.5000e+00  1e-05  1e-06  2e-06  5e-06\n",
      " 5:  2.5000e+00  2.5000e+00  1e-07  1e-08  2e-08  5e-08\n",
      "Optimal solution found.\n",
      "[ 5.00e-01]\n",
      "[ 1.50e+00]\n",
      "\n"
     ]
    }
   ],
   "source": [
    "# http://cvxopt.org/examples/tutorial/lp.html\n",
    "'''\n",
    "minimize:  f = 2*x0 + x1\n",
    "\n",
    "subject to:\n",
    "           -x0 + x1 <= 1\n",
    "            x0 + x1 >= 2\n",
    "            x1 >= 0\n",
    "            x0 - 2*x1 <= 4\n",
    "'''\n",
    "\n",
    "import cvxopt as cvx\n",
    "from cvxopt import solvers as cvx_solvers\n",
    "\n",
    "A = cvx.matrix([ [-1.0, -1.0, 0.0, 1.0], [1.0, -1.0, -1.0, -2.0] ])\n",
    "b = cvx.matrix([ 1.0, -2.0, 0.0, 4.0 ])\n",
    "cost = cvx.matrix([ 2.0, 1.0 ])\n",
    "sol = cvx_solvers.lp(cost, A, b)\n",
    "\n",
    "print(sol['x'])"
   ]
  },
  {
   "cell_type": "code",
   "execution_count": 48,
   "metadata": {
    "collapsed": false
   },
   "outputs": [
    {
     "name": "stdout",
     "output_type": "stream",
     "text": [
      "     pcost       dcost       gap    pres   dres\n",
      " 0:  1.8889e+00  7.7778e-01  1e+00  2e-16  2e+00\n",
      " 1:  1.8769e+00  1.8320e+00  4e-02  0e+00  6e-02\n",
      " 2:  1.8750e+00  1.8739e+00  1e-03  1e-16  5e-04\n",
      " 3:  1.8750e+00  1.8750e+00  1e-05  6e-17  5e-06\n",
      " 4:  1.8750e+00  1.8750e+00  1e-07  2e-16  5e-08\n",
      "Optimal solution found.\n",
      "[ 2.50e-01]\n",
      "[ 7.50e-01]\n",
      "\n"
     ]
    }
   ],
   "source": [
    "# http://cvxopt.org/examples/tutorial/qp.html\n",
    "'''\n",
    "minimize:  f = 2*x1**2 + x2**2 + x1*x2 + x1 + x2\n",
    "\n",
    "subject to:\n",
    "            x1 >= 0\n",
    "            x2 >= 0\n",
    "            x1 + x2 == 1\n",
    "'''\n",
    "\n",
    "import cvxopt as cvx\n",
    "from cvxopt import solvers as cvx_solvers\n",
    "\n",
    "Q = 2*cvx.matrix([ [2, .5], [.5, 1] ])\n",
    "p = cvx.matrix([1.0, 1.0])\n",
    "G = cvx.matrix([[-1.0,0.0],[0.0,-1.0]])\n",
    "h = cvx.matrix([0.0,0.0])\n",
    "A = cvx.matrix([1.0, 1.0], (1,2))\n",
    "b = cvx.matrix(1.0)\n",
    "sol = cvx_solvers.qp(Q, p, G, h, A, b)\n",
    "\n",
    "print(sol['x'])"
   ]
  },
  {
   "cell_type": "markdown",
   "metadata": {},
   "source": [
    "Notice how much nicer it is to see the optimizer \"trajectory\".  Now, instead of a single number, we have the path the optimizer took. `scipy.optimize` has a version of this, with `options={'retall':True}`, which returns the solver trajectory."
   ]
  },
  {
   "cell_type": "markdown",
   "metadata": {},
   "source": [
    "**EXERCISE:** Solve the constrained programming problem by any of the means above.\n",
    "\n",
    "Minimize: f = -1*x[0] + 4*x[1]\n",
    "\n",
    "Subject to: -3*x[0] + 1*x[1] <= 6\n",
    "             1*x[0] + 2*x[1] <= 4\n",
    "                        x[1] >= -3\n",
    "\n",
    "where:  -inf <= x[0] <= inf"
   ]
  },
  {
   "cell_type": "markdown",
   "metadata": {},
   "source": [
    "* Local versus global"
   ]
  },
  {
   "cell_type": "code",
   "execution_count": 50,
   "metadata": {
    "collapsed": false
   },
   "outputs": [
    {
     "name": "stdout",
     "output_type": "stream",
     "text": [
      "<function differential_evolution at 0x113f245f0>\n",
      "<function basinhopping at 0x113f16488>\n",
      "<function anneal at 0x112c29320>\n"
     ]
    }
   ],
   "source": [
    "import scipy.optimize as opt\n",
    "\n",
    "# probabilstic solvers, that use random hopping/mutations\n",
    "print opt.differential_evolution\n",
    "print opt.basinhopping\n",
    "print opt.anneal"
   ]
  },
  {
   "cell_type": "code",
   "execution_count": 12,
   "metadata": {
    "collapsed": false
   },
   "outputs": [
    {
     "name": "stdout",
     "output_type": "stream",
     "text": [
      "[ 1.  1.  1.  1.  1.] @ 30306 evals\n",
      "[ 1.  1.  1.  1.  1.] @ 27981 evals\n",
      "[-0.96197616  0.93559583  0.88044541  0.777405    0.60435632] @ 7104 evals\n",
      "[ 1.  1.  1.  1.  1.] @ 27456 evals\n",
      "[ 1.  1.  1.  1.  1.] @ 27006 evals\n",
      "[ 1.  1.  1.  1.  1.] @ 29106 evals\n",
      "[ 1.  1.  1.  1.  1.] @ 26481 evals\n",
      "[ 1.  1.  1.  1.  1.] @ 28056 evals\n",
      "[ 1.  1.  1.  1.  1.] @ 29256 evals\n",
      "[ 1.  1.  1.  1.  1.] @ 27231 evals\n"
     ]
    }
   ],
   "source": [
    "import scipy.optimize as opt\n",
    "\n",
    "# bounds instead of an initial guess\n",
    "bounds = [(-10., 10)]*5\n",
    "\n",
    "for i in range(10):\n",
    "    result = opt.differential_evolution(opt.rosen, bounds)\n",
    "    print result.x,\n",
    "\n",
    "    # number of function evaluations\n",
    "    print '@ {} evals'.format(result.nfev)"
   ]
  },
  {
   "cell_type": "markdown",
   "metadata": {},
   "source": [
    "* Gradient descent and steepest descent"
   ]
  },
  {
   "cell_type": "markdown",
   "metadata": {},
   "source": [
    "* Genetic and stochastic"
   ]
  },
  {
   "cell_type": "markdown",
   "metadata": {},
   "source": [
    "* Not covered: other exotic types"
   ]
  },
  {
   "cell_type": "markdown",
   "metadata": {},
   "source": [
    "Other important special cases:"
   ]
  },
  {
   "cell_type": "markdown",
   "metadata": {},
   "source": [
    "* Least-squares fitting"
   ]
  },
  {
   "cell_type": "code",
   "execution_count": 79,
   "metadata": {
    "collapsed": false
   },
   "outputs": [
    {
     "name": "stdout",
     "output_type": "stream",
     "text": [
      "target parameters: [3, 2, 1, 0.7853981633974483]\n",
      "solved parameters: [ 2.99399187  1.99439132  1.01332     0.73520273]\n",
      "covarance: [ 0.07289366  0.00803201  0.00076332  0.01177825]\n"
     ]
    },
    {
     "data": {
      "text/plain": [
       "[<matplotlib.lines.Line2D at 0x1169d5090>]"
      ]
     },
     "execution_count": 79,
     "metadata": {},
     "output_type": "execute_result"
    },
    {
     "data": {
      "image/png": "[encoded data removed]",
      "text/plain": [
       "<matplotlib.figure.Figure at 0x1169df490>"
      ]
     },
     "metadata": {},
     "output_type": "display_data"
    }
   ],
   "source": [
    "import scipy.optimize as opt\n",
    "import scipy.stats as stats\n",
    "import numpy as np\n",
    "\n",
    "# Define the function to fit.\n",
    "def function(x, a, b, f, phi):\n",
    "    result = a * np.exp(-b * np.sin(f * x + phi))\n",
    "    return result\n",
    "\n",
    "# Create a noisy data set around the actual parameters\n",
    "true_params = [3, 2, 1, np.pi/4]\n",
    "print \"target parameters: {}\".format(true_params)\n",
    "x = np.linspace(0, 2*np.pi, 25)\n",
    "exact = function(x, *true_params)\n",
    "noisy = exact + 0.3*stats.norm.rvs(size=len(x))\n",
    "\n",
    "# Use curve_fit to estimate the function parameters from the noisy data.\n",
    "initial_guess = [1,1,1,1]\n",
    "estimated_params, err_est = opt.curve_fit(function, x, noisy, p0=initial_guess)\n",
    "print \"solved parameters: {}\".format(estimated_params)\n",
    "\n",
    "# err_est is an estimate of the covariance matrix of the estimates\n",
    "print \"covarance: {}\".format(err_est.diagonal())\n",
    "\n",
    "import matplotlib.pylab as mpl\n",
    "mpl.plot(x, noisy, 'ro')\n",
    "mpl.plot(x, function(x, *estimated_params)) "
   ]
  },
  {
   "cell_type": "markdown",
   "metadata": {},
   "source": [
    "* Not Covered: integer programming"
   ]
  },
  {
   "cell_type": "markdown",
   "metadata": {},
   "source": [
    "Typical uses"
   ]
  },
  {
   "cell_type": "markdown",
   "metadata": {},
   "source": [
    "* Function minimization"
   ]
  },
  {
   "cell_type": "markdown",
   "metadata": {},
   "source": [
    "* Data fitting"
   ]
  },
  {
   "cell_type": "markdown",
   "metadata": {},
   "source": [
    "* Root finding"
   ]
  },
  {
   "cell_type": "code",
   "execution_count": 82,
   "metadata": {
    "collapsed": false
   },
   "outputs": [
    {
     "name": "stdout",
     "output_type": "stream",
     "text": [
      "root: [  5.00000000e-01   1.38102142e-13  -5.23598776e-01]\n",
      "solution: [  0.00000000e+00  -2.23110419e-12   7.46069873e-14]\n"
     ]
    }
   ],
   "source": [
    "import numpy as np\n",
    "import scipy.optimize as opt\n",
    "\n",
    "def system(x,a,b,c):\n",
    "    x0, x1, x2 = x\n",
    "    eqs= [\n",
    "        3 * x0 - np.cos(x1*x2) + a, # == 0\n",
    "        x0**2 - 81*(x1+0.1)**2 + np.sin(x2) + b, # == 0\n",
    "        np.exp(-x0*x1) + 20*x2 + c # == 0\n",
    "    ]\n",
    "    return eqs\n",
    "\n",
    "\n",
    "# coefficients\n",
    "a = -0.5\n",
    "b = 1.06\n",
    "c = (10 * np.pi - 3.0) / 3\n",
    "\n",
    "# initial guess\n",
    "x0 = [0.1, 0.1, -0.1]\n",
    "\n",
    "# Solve the system of non-linear equations.\n",
    "result = opt.root(system, x0, args=(a, b, c))\n",
    "print \"root:\", result.x\n",
    "print \"solution:\", result.fun"
   ]
  },
  {
   "cell_type": "markdown",
   "metadata": {},
   "source": [
    "* Parameter estimation"
   ]
  },
  {
   "cell_type": "code",
   "execution_count": 91,
   "metadata": {
    "collapsed": false
   },
   "outputs": [
    {
     "data": {
      "text/plain": [
       "[<matplotlib.lines.Line2D at 0x1171c7c50>]"
      ]
     },
     "execution_count": 91,
     "metadata": {},
     "output_type": "execute_result"
    },
    {
     "data": {
      "image/png": "[encoded data removed]",
      "text/plain": [
       "<matplotlib.figure.Figure at 0x1170f5e90>"
      ]
     },
     "metadata": {},
     "output_type": "display_data"
    }
   ],
   "source": [
    "import numpy as np\n",
    "import scipy.stats as stats\n",
    "\n",
    "# Create clean data.\n",
    "x = np.linspace(0, 4.0, 100)\n",
    "y = 1.5 * np.exp(-0.2 * x) + 0.3\n",
    "\n",
    "# Add a bit of noise.\n",
    "noise = 0.1 * stats.norm.rvs(size=100)\n",
    "noisy_y = y + noise\n",
    "\n",
    "# Fit noisy data with a linear model.\n",
    "linear_coef = np.polyfit(x, noisy_y, 1)\n",
    "linear_poly = np.poly1d(linear_coef)\n",
    "linear_y = linear_poly(x)\n",
    "\n",
    "# Fit noisy data with a quadratic model.\n",
    "quad_coef = np.polyfit(x, noisy_y, 2)\n",
    "quad_poly = np.poly1d(quad_coef)\n",
    "quad_y = quad_poly(x)\n",
    "\n",
    "import matplotlib.pylab as mpl\n",
    "mpl.plot(x, noisy_y, 'ro')\n",
    "mpl.plot(x, linear_y)\n",
    "mpl.plot(x, quad_y)\n",
    "#mpl.plot(x, y)"
   ]
  },
  {
   "cell_type": "markdown",
   "metadata": {},
   "source": [
    "Standard diagnostic tools"
   ]
  },
  {
   "cell_type": "markdown",
   "metadata": {},
   "source": [
    "* Eyeball the plotted solution against the objective"
   ]
  },
  {
   "cell_type": "markdown",
   "metadata": {},
   "source": [
    "* Run several times and take the best result"
   ]
  },
  {
   "cell_type": "markdown",
   "metadata": {},
   "source": [
    "* Log of intermediate results, per iteration"
   ]
  },
  {
   "cell_type": "markdown",
   "metadata": {},
   "source": [
    "* Rare: look at the covariance matrix"
   ]
  },
  {
   "cell_type": "markdown",
   "metadata": {},
   "source": [
    "* Issue: how can you really be sure you have the results you were looking for?"
   ]
  },
  {
   "cell_type": "markdown",
   "metadata": {},
   "source": [
    "**EXERCISE:** Use any of the solvers we've seen thus far to find the minimum of the `zimmermann` function (i.e. use `mystic.models.zimmermann` as the objective).  Use the bounds suggested below, if your choice of solver allows it."
   ]
  },
  {
   "cell_type": "code",
   "execution_count": 93,
   "metadata": {
    "collapsed": false
   },
   "outputs": [
    {
     "name": "stdout",
     "output_type": "stream",
     "text": [
      "evaluates a Zimmermann function for a list of coeffs\n",
      "\n",
      "f(x) = max(f_0(x), p_i(x)), with i = 0,1,2,3\n",
      "\n",
      "Where:\n",
      "f_0(x) = 9 - x_0 - x_1\n",
      "with for x_0 < 0:\n",
      "p_0(x) = -100 * x_0\n",
      "and for x_1 < 0:\n",
      "p_1(x) = -100 * x_1\n",
      "and for c_2(x) > 16 and c_3(x) > 14:\n",
      "p_i(x) = 100 * c_i(x), with i = 2,3\n",
      "c_2(x) = (x_0 - 3)^2 + (x_1 - 2)^2\n",
      "c_3(x) = x_0 * x_1\n",
      "Otherwise, p_i(x)=0 for i=0,1,2,3 and c_i(x)=0 for i=2,3.\n",
      "\n",
      "Inspect with mystic_model_plotter using::\n",
      "    mystic.models.zimmermann -b \"-5:10:.1, -5:10:.1\" -d -x 1\n",
      "\n",
      "The minimum is f(x)=0.0 at x=(7.0,2.0)\n"
     ]
    }
   ],
   "source": [
    "import mystic.models as models\n",
    "print models.zimmermann.__doc__"
   ]
  },
  {
   "cell_type": "markdown",
   "metadata": {},
   "source": [
    "**EXERCISE:** Do the same for the `fosc3d` function found at `mystic.models.fosc3d`, using the bounds suggested by the documentation, if your chosen solver accepts bounds or constraints."
   ]
  },
  {
   "cell_type": "markdown",
   "metadata": {},
   "source": [
    "More to ponder: what about high-dimenstional and nonlinear constraints?"
   ]
  },
  {
   "cell_type": "markdown",
   "metadata": {},
   "source": [
    "Let's look at optimization \"redesigned\" in [mystic](mystic.ipynb)..."
   ]
  }
 ],
 "metadata": {
  "kernelspec": {
   "display_name": "Python 2",
   "language": "python",
   "name": "python2"
  },
  "language_info": {
   "codemirror_mode": {
    "name": "ipython",
    "version": 2
   },
   "file_extension": ".py",
   "mimetype": "text/x-python",
   "name": "python",
   "nbconvert_exporter": "python",
   "pygments_lexer": "ipython2",
   "version": "2.7.10"
  }
 },
 "nbformat": 4,
 "nbformat_minor": 0
}
